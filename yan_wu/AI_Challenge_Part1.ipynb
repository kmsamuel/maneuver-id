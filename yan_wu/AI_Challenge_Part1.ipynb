{
  "nbformat": 4,
  "nbformat_minor": 0,
  "metadata": {
    "colab": {
      "name": "AIChallenge Part1.ipynb",
      "provenance": [],
      "collapsed_sections": []
    },
    "kernelspec": {
      "name": "python3",
      "display_name": "Python 3"
    },
    "language_info": {
      "name": "python"
    }
  },
  "cells": [
    {
      "cell_type": "code",
      "execution_count": null,
      "metadata": {
        "id": "EbBat_buDLR3"
      },
      "outputs": [],
      "source": [
        "import pandas as pd\n",
        "import numpy as np\n",
        "import os"
      ]
    },
    {
      "cell_type": "code",
      "source": [
        "def test(df):\n",
        "    \"\"\"\n",
        "    Scores the trajectory based on a few statistic measures.\n",
        "    It would return a Boolean value where True means the data is good, and False means the data is bad.\n",
        "    \"\"\"\n",
        "    criteria = [df[' xEast (m)'].mean() < 500, \n",
        "            df[' xEast (m)'].std() < 100, \n",
        "            df[' yNorth (m)'].mean() < 500, \n",
        "            df[' yNorth (m)'].std() < 100, \n",
        "            df[' roll (deg)'].mean() < 0, \n",
        "    ]\n",
        "    score = sum(criteria) > 3\n",
        "    # print(criteria)\n",
        "    return score"
      ],
      "metadata": {
        "id": "7koLEUsjqG9F"
      },
      "execution_count": null,
      "outputs": []
    },
    {
      "cell_type": "code",
      "source": [
        "def true_positive():\n",
        "  \"\"\"\n",
        "  A test on the true positive rate on the model. It loops through around 500 trajectories labelled as good and count\n",
        "  the percentage of them being classified as good.\n",
        "\n",
        "  It prints out the file names that are misclassified.\n",
        "  \"\"\"\n",
        "  good_score = 0\n",
        "  total = 0\n",
        "  for file in os.listdir(\"/content/drive/MyDrive/12000000000_tsv_good\"):\n",
        "    bad_possibility = 0\n",
        "    if not file.endswith('.tsv'):\n",
        "      continue\n",
        "    df = pd.read_csv(\"/content/drive/MyDrive/12000000000_tsv_good/\"+file, sep='\\t')\n",
        "    if test(df):\n",
        "      # print(file)\n",
        "      pass\n",
        "    else:\n",
        "      good_score += 1\n",
        "    total += 1\n",
        "    if total > 500:\n",
        "      break\n",
        "  return good_score/total"
      ],
      "metadata": {
        "id": "7NzcyLXff77P"
      },
      "execution_count": null,
      "outputs": []
    },
    {
      "cell_type": "code",
      "source": [
        "def true_negative():\n",
        "  \"\"\"\n",
        "  A test on the true negative rate on the model. It loops through trajectories labelled as bad and count\n",
        "  the percentage of them being classified as bad.\n",
        "\n",
        "  It prints out the file names that are misclassified.\n",
        "  \"\"\"\n",
        "  bad_score = 0\n",
        "  total = 0\n",
        "  for file in os.listdir(\"/content/drive/MyDrive/12000000000_tsv_bad\"):\n",
        "    if not file.endswith('.tsv'):\n",
        "      continue\n",
        "    df = pd.read_csv(\"/content/drive/MyDrive/12000000000_tsv_bad/\"+file, sep='\\t')\n",
        "    if test(df):\n",
        "      bad_score += 1\n",
        "    else:\n",
        "      # print(file)\n",
        "      pass\n",
        "    total += 1\n",
        "  return bad_score/total"
      ],
      "metadata": {
        "id": "bZLoQJW8guzJ"
      },
      "execution_count": null,
      "outputs": []
    },
    {
      "cell_type": "code",
      "source": [
        "print('true positive rate:')\n",
        "print(true_positive())\n",
        "print('true negative rate:')\n",
        "print(true_negative())"
      ],
      "metadata": {
        "colab": {
          "base_uri": "https://localhost:8080/"
        },
        "id": "6KoeE7-XrROt",
        "outputId": "84a94200-ff50-4442-bd98-d2e09a45e7ef"
      },
      "execution_count": null,
      "outputs": [
        {
          "output_type": "stream",
          "name": "stdout",
          "text": [
            "true positive rate:\n",
            "0.9680638722554891\n",
            "true negative rate:\n",
            "0.9112426035502958\n"
          ]
        }
      ]
    }
  ]
}